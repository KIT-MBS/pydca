{
 "cells": [
  {
   "cell_type": "code",
   "execution_count": 6,
   "metadata": {},
   "outputs": [],
   "source": [
    "import pydca\n",
    "from pydca.plmdca import plmdca\n",
    "from pydca.meanfield_dca import meanfield_dca\n",
    "from pydca.sequence_backmapper import sequence_backmapper\n",
    "\n",
    "\n",
    "rna_msa_file = 'examples/MSA_RF00167.fa'\n",
    "# create plmdca instance \n",
    "plmdca_rna = plmdca.PlmDCA(\n",
    "    'rna',\n",
    "    rna_msa_file,\n",
    "    seqid = 0.8,\n",
    "    lambda_h = 1.0,\n",
    "    lambda_J = 14.0,\n",
    "    num_threads = 10,\n",
    "    max_iterations = 500\n",
    ")\n"
   ]
  },
  {
   "cell_type": "code",
   "execution_count": 8,
   "metadata": {},
   "outputs": [
    {
     "name": "stdout",
     "output_type": "stream",
     "text": [
      "46\t56\t2.817815583795496\n",
      "45\t57\t2.7946621678711523\n",
      "17\t29\t2.781680404780782\n",
      "18\t28\t2.7474905610560776\n",
      "44\t58\t2.6772385639757785\n",
      "15\t31\t2.5897342690322476\n",
      "43\t59\t2.5602326561627695\n",
      "16\t30\t2.4983698282780953\n",
      "47\t55\t2.127337636269769\n",
      "14\t32\t2.0520806491051\n"
     ]
    }
   ],
   "source": [
    "# compute DCA scores summarized by Frobenius norm of the couplings, average product corrected.\n",
    "fn_scores = plmdca_rna.compute_sorted_FN_APC()\n",
    "\n",
    "# print top 10 unfiltered FN scores \n",
    "for pair, score in fn_scores[:10]:\n",
    "    print('{}\\t{}\\t{}'.format(pair[0] + 1, pair[1] + 1, score))"
   ]
  },
  {
   "cell_type": "code",
   "execution_count": 9,
   "metadata": {},
   "outputs": [
    {
     "name": "stdout",
     "output_type": "stream",
     "text": [
      "46\t56\t0.29435547522215627\n",
      "45\t57\t0.29157729106555386\n",
      "18\t28\t0.2818422838668274\n",
      "17\t29\t0.2805061918485041\n",
      "44\t58\t0.27018080837846986\n",
      "15\t31\t0.25730748759853544\n",
      "43\t59\t0.24851963254880113\n",
      "16\t30\t0.24519650502993814\n",
      "6\t66\t0.18218950015877136\n",
      "42\t60\t0.17507366766043242\n"
     ]
    }
   ],
   "source": [
    "# compute DCA scores summarized by Direct Information, average product correction\n",
    "di_scores = plmdca_rna.compute_sorted_DI_APC()\n",
    "\n",
    "#print top 10 DI scores \n",
    "for pair, score in di_scores[:10]:\n",
    "    print('{}\\t{}\\t{}'.format(pair[0] + 1, pair[1] + 1, score))"
   ]
  },
  {
   "cell_type": "code",
   "execution_count": null,
   "metadata": {},
   "outputs": [],
   "source": []
  }
 ],
 "metadata": {
  "file_extension": ".py",
  "kernelspec": {
   "display_name": "Python 3",
   "language": "python",
   "name": "python3"
  },
  "language_info": {
   "codemirror_mode": {
    "name": "ipython",
    "version": 3
   },
   "file_extension": ".py",
   "mimetype": "text/x-python",
   "name": "python",
   "nbconvert_exporter": "python",
   "pygments_lexer": "ipython3",
   "version": "3.6.8"
  },
  "mimetype": "text/x-python",
  "name": "python",
  "npconvert_exporter": "python",
  "pygments_lexer": "ipython3",
  "version": 3
 },
 "nbformat": 4,
 "nbformat_minor": 2
}
