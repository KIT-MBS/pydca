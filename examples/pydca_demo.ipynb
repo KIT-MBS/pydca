{
 "cells": [
  {
   "cell_type": "markdown",
   "metadata": {},
   "source": [
    "# pydca demo\n",
    "\n",
    "## MSA Trimming\n",
    "Here we show how to use pydca as a library. We start with by importing pydca or selected modules within pydca."
   ]
  },
  {
   "cell_type": "code",
   "execution_count": 2,
   "metadata": {},
   "outputs": [],
   "source": [
    "\n",
    "\"\"\"pydca demo\n",
    "\n",
    "Author: Mehari B. Zerihun\n",
    "\"\"\"\n",
    "\n",
    "# import pydca and/or selected modules\n",
    "import pydca\n",
    "from pydca.plmdca import plmdca\n",
    "from pydca.meanfield_dca import meanfield_dca\n",
    "from pydca.sequence_backmapper import sequence_backmapper\n",
    "from pydca.msa_trimmer import msa_trimmer\n",
    "from pydca.dca_utilities import dca_utilities\n",
    "\n",
    "\n",
    "rna_msa_file = 'examples/MSA_RF00167.fa'\n",
    "rna_refseq_file = 'examples/ref_RF00167.fa'\n",
    "\n",
    "# create MSATrimmer instance \n",
    "trimmer = msa_trimmer.MSATrimmer(\n",
    "    rna_msa_file, biomolecule='rna', \n",
    "    refseq_file=rna_refseq_file,\n",
    ")\n",
    "\n",
    "trimmed_data = trimmer.get_msa_trimmed_by_refseq(remove_all_gaps=True)\n",
    "\n",
    "#write trimmed msa to file in FASTA format\n",
    "trimmed_data_outfile = 'MSA_RF00167_Trimmed.fa'\n",
    "with open(trimmed_data_outfile, 'w') as fh:\n",
    "    for seqid, seq in trimmed_data:\n",
    "        fh.write('>{}\\n{}\\n'.format(seqid, seq))\n",
    "        \n"
   ]
  },
  {
   "cell_type": "markdown",
   "metadata": {},
   "source": [
    "In the above, we have imported pydca or selected modules from pydca. Then we defined two variables `rna_msa_file` and `rna_refseq_file` that contain paths to an RNA MSA file and its reference sequence, respectively. Following that we created an MSATrimmer instance which enabled us to trim the MSA file. Finally, we write the trimmed MSA data to an output file `MSA_RF00167_Trimmed.fa` in FASTA format. To trim protein sequences we just need to change `biomolecule='rna'`  to `biomolecule='protein'` and provide the respective MSA and reference sequence files. Next we carry out DCA computations using the trimmed MSA saved in `MSA_RF00167_Trimmed.fa`\n",
    "\n",
    "## DCA Computation Using Pseudolikelihood Maximization Algorithm (plmDCA)"
   ]
  },
  {
   "cell_type": "code",
   "execution_count": 8,
   "metadata": {},
   "outputs": [],
   "source": [
    "# Compute DCA scores using Pseudolikelihood maximization algorithm\n",
    "\n",
    "plmdca_inst = plmdca.PlmDCA(\n",
    "    trimmed_data_outfile,\n",
    "    'rna',\n",
    "    seqid = 0.8,\n",
    "    lambda_h = 1.0,\n",
    "    lambda_J = 20.0,\n",
    "    num_threads = 10,\n",
    "    max_iterations = 500,\n",
    ")\n",
    "\n",
    "# compute DCA scores summarized by Frobenius norm and average product corrected\n",
    "plmdca_FN_APC = plmdca_inst.compute_sorted_FN_APC()"
   ]
  },
  {
   "cell_type": "markdown",
   "metadata": {},
   "source": [
    "In the above, we created a PlmDCA instance `plmdca_inst`  for RNA. Notice that we used the trimmed MSA data we obtained before.  We also set the values of optional parameters. The optional parameters `num_threads` is set to 10. If `pydca` is installed without OpenMP support, we cannot set the number of threads more than one. Finally we computed the DCA scores from the Frobenius norm of the couplings by calling the `compute_sorted_FN_APC()` method on `plmdca_inst`. This action returns the average product corrected (APC) DCA scores. Lets print the top five site pairs and their DCA scores."
   ]
  },
  {
   "cell_type": "code",
   "execution_count": 5,
   "metadata": {},
   "outputs": [
    {
     "name": "stdout",
     "output_type": "stream",
     "text": [
      "(45, 55) 2.5791187588802083\n",
      "(44, 56) 2.5573842583919526\n",
      "(16, 28) 2.5379174657520434\n",
      "(17, 27) 2.5094812232835744\n",
      "(43, 57) 2.4451864083984653\n"
     ]
    }
   ],
   "source": [
    "for site_pair, score in plmdca_FN_APC[:5]:\n",
    "    print(site_pair, score)"
   ]
  },
  {
   "cell_type": "markdown",
   "metadata": {},
   "source": [
    "We have displayed the top five site pairs ranked by their DCA scores. The first column is a tuple of site-pairs and the second column contains the DCA scores obtained from the Frobenius norm of the couplings. Note that the site pairs are arranged in the form (i, j) such that j > i."
   ]
  },
  {
   "cell_type": "markdown",
   "metadata": {},
   "source": [
    "## DCA Computation Using Mean-Field Algorithm (mfDCA)"
   ]
  },
  {
   "cell_type": "code",
   "execution_count": 14,
   "metadata": {},
   "outputs": [],
   "source": [
    "#create mean-field DCA instance \n",
    "mfdca_inst = meanfield_dca.MeanFieldDCA(\n",
    "    trimmed_data_outfile,\n",
    "    'rna',\n",
    "    pseudocount = 0.5,\n",
    "    seqid = 0.8,\n",
    "\n",
    ")\n",
    "\n",
    "# Compute average product corrected Frobenius norm of the couplings\n",
    "mfdca_FN_APC = mfdca_inst.compute_sorted_FN_APC()"
   ]
  },
  {
   "cell_type": "markdown",
   "metadata": {},
   "source": [
    "In the above, we created a mean-field DCA instance `mfdca_inst`. We set the optional parameters `pseudocount` and `seqid` to be `0.5` and `0.8`. Like in the plmDCA we computed the DCA scores from the Frobenius norm of the couplings and average product corrected. using `compute_sorted_FN_APC` metho of `mfdca_inst`. Lets print the top five ranked site pairs."
   ]
  },
  {
   "cell_type": "code",
   "execution_count": 15,
   "metadata": {},
   "outputs": [
    {
     "name": "stdout",
     "output_type": "stream",
     "text": [
      "(44, 56) 4.290005464965937\n",
      "(16, 28) 4.210860173400807\n",
      "(17, 27) 4.207758141824402\n",
      "(45, 55) 4.190480172499375\n",
      "(43, 57) 4.039065434604404\n"
     ]
    }
   ],
   "source": [
    "for site_pair, score in mfdca_FN_APC[:5]:\n",
    "    print(site_pair, score)"
   ]
  },
  {
   "cell_type": "code",
   "execution_count": null,
   "metadata": {},
   "outputs": [],
   "source": []
  }
 ],
 "metadata": {
  "file_extension": ".py",
  "kernelspec": {
   "display_name": "Python 3",
   "language": "python",
   "name": "python3"
  },
  "language_info": {
   "codemirror_mode": {
    "name": "ipython",
    "version": 3
   },
   "file_extension": ".py",
   "mimetype": "text/x-python",
   "name": "python",
   "nbconvert_exporter": "python",
   "pygments_lexer": "ipython3",
   "version": "3.6.8"
  },
  "mimetype": "text/x-python",
  "name": "python",
  "npconvert_exporter": "python",
  "pygments_lexer": "ipython3",
  "version": 3
 },
 "nbformat": 4,
 "nbformat_minor": 2
}
